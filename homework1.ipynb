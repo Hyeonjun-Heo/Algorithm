{
 "cells": [
  {
   "cell_type": "code",
   "execution_count": 57,
   "metadata": {},
   "outputs": [],
   "source": [
    "n, m = map(int, input().split())"
   ]
  },
  {
   "cell_type": "code",
   "execution_count": 58,
   "metadata": {},
   "outputs": [],
   "source": [
    "num = list(map(int,input().split()))\n",
    "ans = 0"
   ]
  },
  {
   "cell_type": "code",
   "execution_count": 62,
   "metadata": {},
   "outputs": [],
   "source": [
    "def add_num(n, m):\n",
    "    a = []\n",
    "    for i in range(n):\n",
    "        for j in range(i+1, n):\n",
    "            for k in range(j+1, n):\n",
    "                if num[i] + num[j] + num[k] <= m:\n",
    "                    a.append(num[i] + num[j] + num[k])\n",
    "                    a.sort(reverse=True)\n",
    "    return a[0]\n",
    "                "
   ]
  },
  {
   "cell_type": "code",
   "execution_count": 63,
   "metadata": {},
   "outputs": [
    {
     "data": {
      "text/plain": [
       "497"
      ]
     },
     "execution_count": 63,
     "metadata": {},
     "output_type": "execute_result"
    }
   ],
   "source": [
    "add_num(n,m)"
   ]
  },
  {
   "cell_type": "code",
   "execution_count": 1,
   "metadata": {},
   "outputs": [],
   "source": [
    "def compute_square_C(n):\n",
    "    sum = 0\n",
    "    for i in range(n):\n",
    "        for j in range(n):\n",
    "            sum = sum + 1\n",
    "    return sum"
   ]
  },
  {
   "cell_type": "markdown",
   "metadata": {},
   "source": [
    "# 리스트의 중복 항목 탐색"
   ]
  },
  {
   "cell_type": "code",
   "execution_count": null,
   "metadata": {},
   "outputs": [],
   "source": [
    "def unique_elements(A):\n",
    "    n = len(A)\n",
    "    for i in range(n-1):\n",
    "        for j in range(i+1, n):\n",
    "            if A[i] == A[j]:\n",
    "                return False\n",
    "    return True"
   ]
  },
  {
   "cell_type": "markdown",
   "metadata": {},
   "source": [
    "# 자연수의 2진수 변환시 비트수"
   ]
  },
  {
   "cell_type": "code",
   "execution_count": 9,
   "metadata": {},
   "outputs": [
    {
     "data": {
      "text/plain": [
       "4"
      ]
     },
     "execution_count": 9,
     "metadata": {},
     "output_type": "execute_result"
    }
   ],
   "source": [
    "n = int(input())\n",
    "def binary_digits(n):\n",
    "    count = 1\n",
    "    while n>1:\n",
    "        count = count + 1\n",
    "        n = n // 2\n",
    "    return count\n",
    "\n",
    "binary_digits(n)\n"
   ]
  },
  {
   "cell_type": "markdown",
   "metadata": {},
   "source": [
    "# 팩토리얼 계산 문제"
   ]
  },
  {
   "cell_type": "code",
   "execution_count": 10,
   "metadata": {},
   "outputs": [
    {
     "data": {
      "text/plain": [
       "6"
      ]
     },
     "execution_count": 10,
     "metadata": {},
     "output_type": "execute_result"
    }
   ],
   "source": [
    "n = int(input())\n",
    "def pectorial(n):\n",
    "    if n == 1:\n",
    "        return 1\n",
    "    else:\n",
    "        return n * pectorial(n-1)\n",
    "\n",
    "pectorial(n)"
   ]
  },
  {
   "cell_type": "markdown",
   "metadata": {},
   "source": [
    "# Hanoi tower problem"
   ]
  },
  {
   "cell_type": "code",
   "execution_count": 25,
   "metadata": {},
   "outputs": [
    {
     "name": "stdout",
     "output_type": "stream",
     "text": [
      "원판 1: A --> B\n",
      "원판 2: A --> C\n",
      "원판 1: B --> C\n",
      "원판 3: A --> B\n",
      "원판 1: C --> A\n",
      "원판 2: C --> B\n",
      "원판 1: A --> B\n",
      "원판 4: A --> C\n",
      "원판 1: B --> C\n",
      "원판 2: B --> A\n",
      "원판 1: C --> A\n",
      "원판 3: B --> C\n",
      "원판 1: A --> B\n",
      "원판 2: A --> C\n",
      "원판 1: B --> C\n"
     ]
    }
   ],
   "source": [
    "def hanoi_tower(n, fr, tmp, to):\n",
    "    if n == 1:\n",
    "        print(\"원판 1: %s --> %s\" % (fr, to))\n",
    "    else:\n",
    "        hanoi_tower(n-1, fr, to, tmp)\n",
    "        print(\"원판 %d: %s --> %s\" % (n, fr, to))\n",
    "        hanoi_tower(n-1, tmp, fr, to)\n",
    "\n",
    "hanoi_tower(4, 'A', 'B', 'C')"
   ]
  },
  {
   "cell_type": "code",
   "execution_count": null,
   "metadata": {},
   "outputs": [],
   "source": []
  }
 ],
 "metadata": {
  "kernelspec": {
   "display_name": "pytorch",
   "language": "python",
   "name": "python3"
  },
  "language_info": {
   "codemirror_mode": {
    "name": "ipython",
    "version": 3
   },
   "file_extension": ".py",
   "mimetype": "text/x-python",
   "name": "python",
   "nbconvert_exporter": "python",
   "pygments_lexer": "ipython3",
   "version": "3.9.13"
  },
  "orig_nbformat": 4
 },
 "nbformat": 4,
 "nbformat_minor": 2
}
