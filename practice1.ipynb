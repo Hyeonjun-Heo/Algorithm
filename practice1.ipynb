{
 "cells": [
  {
   "cell_type": "markdown",
   "metadata": {},
   "source": [
    "어떤 자연수에서 첫번째 자리의 수를 마지막 자리로 옮겼더니 원래 수의 2/3이 되었다. 이러한 자연수 중에서 가장 작은 수는 무엇인지 찾아라.\n",
    "단, 자연수는 백만보다 작다.\n",
    "\n",
    "\n",
    "\n",
    "정답은 아래처럼 찍혀야 한다. \n",
    "\n",
    "(원래 자연수) * 2/3 = (바뀐 수)\n",
    "\n",
    "\n",
    "\n",
    "주의) 53에 2/3를 곱하면 35가 나오는데 이것은 35.333333333 이므로 35는 문제가 제시한 원래 수의 2/3라고 볼 수 없다.  "
   ]
  },
  {
   "cell_type": "code",
   "execution_count": 2,
   "metadata": {},
   "outputs": [
    {
     "data": {
      "text/plain": [
       "35.33333333333333"
      ]
     },
     "execution_count": 2,
     "metadata": {},
     "output_type": "execute_result"
    }
   ],
   "source": [
    "53 * (2/3)"
   ]
  },
  {
   "cell_type": "code",
   "execution_count": 5,
   "metadata": {},
   "outputs": [],
   "source": [
    "def main():\n",
    "    for a in range(12, 1000000, 3):\n",
    "        b = a\n",
    "        x = 1\n",
    "        while b//10: # b가 10으로 나누어지지 않을 때 까지\n",
    "            b//10\n",
    "            x *= 10 # 자리수 구하기\n",
    "        if (a - b*x) * 10 + b == (a//3) * 2:\n",
    "            print(f\"{a} * 2 / 3 = {(a - b * x) * 10 + b}\")\n",
    "            break\n",
    "\n",
    "if __name__ == \"__main__\":\n",
    "    main()"
   ]
  },
  {
   "cell_type": "code",
   "execution_count": 23,
   "metadata": {},
   "outputs": [
    {
     "data": {
      "text/plain": [
       "4"
      ]
     },
     "execution_count": 23,
     "metadata": {},
     "output_type": "execute_result"
    }
   ],
   "source": [
    "n = int(input())\n",
    "m = int(input())\n",
    "\n",
    "def main(n, m):\n",
    "    count = 0\n",
    "    for i in range(1,n+1):\n",
    "        while i != 0:\n",
    "            if i%10 == m:\n",
    "                count = count+1\n",
    "            i = i//10\n",
    "    return count\n",
    "    print(count)\n",
    "\n",
    "main(n,m)"
   ]
  },
  {
   "cell_type": "code",
   "execution_count": 26,
   "metadata": {},
   "outputs": [
    {
     "name": "stdout",
     "output_type": "stream",
     "text": [
      "4\n"
     ]
    }
   ],
   "source": [
    "n = int(input())\n",
    "m = int(input())\n",
    "\n",
    "\n",
    "count = 0\n",
    "for i in range(1,n+1):\n",
    "    current_number = i\n",
    "    while current_number != 0:\n",
    "        if current_number % 10 == m:\n",
    "            count += 1\n",
    "        current_number = current_number // 10\n",
    "print(count)\n"
   ]
  },
  {
   "cell_type": "code",
   "execution_count": null,
   "metadata": {},
   "outputs": [],
   "source": [
    "# \n",
    "n, num = map(int,input().split())\n",
    "cnt = 0\n",
    "for i in range(1,n+1):\n",
    "\tfor a in str(i):\n",
    "\t\tif int(a) == num:\n",
    "\t\t\tcnt += 1\n",
    "\n",
    "print(cnt)"
   ]
  }
 ],
 "metadata": {
  "kernelspec": {
   "display_name": "pytorch",
   "language": "python",
   "name": "python3"
  },
  "language_info": {
   "codemirror_mode": {
    "name": "ipython",
    "version": 3
   },
   "file_extension": ".py",
   "mimetype": "text/x-python",
   "name": "python",
   "nbconvert_exporter": "python",
   "pygments_lexer": "ipython3",
   "version": "3.9.13"
  },
  "orig_nbformat": 4
 },
 "nbformat": 4,
 "nbformat_minor": 2
}
